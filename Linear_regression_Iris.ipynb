{
  "nbformat": 4,
  "nbformat_minor": 0,
  "metadata": {
    "colab": {
      "provenance": [],
      "authorship_tag": "ABX9TyNJ3AvwA5TBeUQ4gTQzqaFy"
    },
    "kernelspec": {
      "name": "python3",
      "display_name": "Python 3"
    },
    "language_info": {
      "name": "python"
    }
  },
  "cells": [
    {
      "cell_type": "code",
      "execution_count": 1,
      "metadata": {
        "colab": {
          "base_uri": "https://localhost:8080/"
        },
        "id": "ywvq4r2ekAfo",
        "outputId": "e0c00c40-6879-479e-d130-60e6c9fbc976"
      },
      "outputs": [
        {
          "output_type": "stream",
          "name": "stdout",
          "text": [
            "training set score: 0.92\n",
            "test set score: 0.94\n"
          ]
        }
      ],
      "source": [
        "import numpy as np\n",
        "import sklearn\n",
        "from sklearn.linear_model import LinearRegression\n",
        "from sklearn.metrics import accuracy_score\n",
        "from sklearn.datasets import load_iris\n",
        "from sklearn.model_selection import train_test_split\n",
        "\n",
        "iris = load_iris()\n",
        "x= iris.data\n",
        "y = iris.target\n",
        "\n",
        "x_train,x_test,y_train,y_test = train_test_split(x,y,test_size=0.3,random_state = 42)\n",
        "model = LinearRegression()\n",
        "model.fit(x_train,y_train)\n",
        "\n",
        "print(\"training set score: {:.2f}\".format(model.score(x_train,y_train)))\n",
        "print(\"test set score: {:.2f}\".format(model.score(x_test,y_test)))"
      ]
    }
  ]
}